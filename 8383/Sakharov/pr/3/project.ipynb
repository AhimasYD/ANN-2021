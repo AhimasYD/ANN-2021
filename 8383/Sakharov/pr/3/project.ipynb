{
 "cells": [
  {
   "cell_type": "markdown",
   "id": "comfortable-season",
   "metadata": {},
   "source": [
    "### Задание \n",
    "#### Написать функцию, которая находит самое часто встречающееся число в каждой строке матрицы и возвращает массив этих значений"
   ]
  },
  {
   "cell_type": "markdown",
   "id": "absolute-interim",
   "metadata": {},
   "source": [
    "### Импорт"
   ]
  },
  {
   "cell_type": "code",
   "execution_count": 1,
   "id": "threaded-soldier",
   "metadata": {},
   "outputs": [],
   "source": [
    "from statistics import mode\n",
    "import numpy as np"
   ]
  },
  {
   "cell_type": "markdown",
   "id": "painful-eligibility",
   "metadata": {},
   "source": [
    "### Считаем моду в каждой строке"
   ]
  },
  {
   "cell_type": "code",
   "execution_count": 2,
   "id": "angry-gibson",
   "metadata": {},
   "outputs": [],
   "source": [
    "def f(x):\n",
    "    modes = []\n",
    "    for line in x:\n",
    "        modes.append(mode(line))\n",
    "    return modes"
   ]
  },
  {
   "cell_type": "markdown",
   "id": "engaging-haven",
   "metadata": {},
   "source": [
    "### Пример выполнения"
   ]
  },
  {
   "cell_type": "code",
   "execution_count": 3,
   "id": "revolutionary-stereo",
   "metadata": {},
   "outputs": [
    {
     "name": "stdout",
     "output_type": "stream",
     "text": [
      "[[-3  0 -1  3 -4  3 -1  3  3  0]\n",
      " [ 2  3  1 -2 -3 -3  2  0  0 -2]\n",
      " [-4  1  3 -4  0 -3  2 -2  3  3]\n",
      " [-4  2  0  3 -1  2 -3  0  0 -4]\n",
      " [-3  1  3  1 -4  3 -4  3 -2  1]\n",
      " [ 3 -2 -2  1 -3 -2  2 -2  0  0]\n",
      " [ 2 -3 -4 -1 -4 -4 -2  0  1 -3]\n",
      " [ 2 -1  2  0 -2 -2 -3 -1  3  3]\n",
      " [-1 -2  0 -1 -1  3  2 -4 -1 -2]\n",
      " [-3  3  1 -1 -1  1 -1 -2  1 -2]]\n"
     ]
    },
    {
     "data": {
      "text/plain": [
       "[3, 2, 3, 0, 1, -2, -4, 2, -1, 1]"
      ]
     },
     "execution_count": 3,
     "metadata": {},
     "output_type": "execute_result"
    }
   ],
   "source": [
    "m = np.random.randint(-4,4,size=(10,10))\n",
    "print(m)\n",
    "f(m)"
   ]
  },
  {
   "cell_type": "code",
   "execution_count": null,
   "id": "liquid-eugene",
   "metadata": {},
   "outputs": [],
   "source": []
  }
 ],
 "metadata": {
  "kernelspec": {
   "display_name": "Python 3",
   "language": "python",
   "name": "python3"
  },
  "language_info": {
   "codemirror_mode": {
    "name": "ipython",
    "version": 3
   },
   "file_extension": ".py",
   "mimetype": "text/x-python",
   "name": "python",
   "nbconvert_exporter": "python",
   "pygments_lexer": "ipython3",
   "version": "3.8.7"
  }
 },
 "nbformat": 4,
 "nbformat_minor": 5
}
